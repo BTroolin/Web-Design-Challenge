{
 "cells": [
  {
   "cell_type": "code",
   "execution_count": 1,
   "metadata": {},
   "outputs": [],
   "source": [
    "#import dependencies\n",
    "import pandas as pd\n"
   ]
  },
  {
   "cell_type": "code",
   "execution_count": 3,
   "metadata": {},
   "outputs": [
    {
     "data": {
      "text/html": [
       "<div>\n",
       "<style scoped>\n",
       "    .dataframe tbody tr th:only-of-type {\n",
       "        vertical-align: middle;\n",
       "    }\n",
       "\n",
       "    .dataframe tbody tr th {\n",
       "        vertical-align: top;\n",
       "    }\n",
       "\n",
       "    .dataframe thead th {\n",
       "        text-align: right;\n",
       "    }\n",
       "</style>\n",
       "<table border=\"1\" class=\"dataframe\">\n",
       "  <thead>\n",
       "    <tr style=\"text-align: right;\">\n",
       "      <th></th>\n",
       "      <th>City</th>\n",
       "      <th>id</th>\n",
       "      <th>Country</th>\n",
       "      <th>Lat</th>\n",
       "      <th>Lng</th>\n",
       "      <th>Date</th>\n",
       "      <th>Cloudiness</th>\n",
       "      <th>Humidity</th>\n",
       "      <th>Max Temp</th>\n",
       "      <th>Wind Speed</th>\n",
       "    </tr>\n",
       "  </thead>\n",
       "  <tbody>\n",
       "    <tr>\n",
       "      <th>0</th>\n",
       "      <td>rikitea</td>\n",
       "      <td>4030556</td>\n",
       "      <td>PF</td>\n",
       "      <td>-23.120279</td>\n",
       "      <td>-134.969177</td>\n",
       "      <td>1607817600</td>\n",
       "      <td>100</td>\n",
       "      <td>80</td>\n",
       "      <td>75.54</td>\n",
       "      <td>12.44</td>\n",
       "    </tr>\n",
       "    <tr>\n",
       "      <th>1</th>\n",
       "      <td>hithadhoo</td>\n",
       "      <td>1282256</td>\n",
       "      <td>MV</td>\n",
       "      <td>-0.600000</td>\n",
       "      <td>73.083328</td>\n",
       "      <td>1607817600</td>\n",
       "      <td>41</td>\n",
       "      <td>77</td>\n",
       "      <td>82.22</td>\n",
       "      <td>17.11</td>\n",
       "    </tr>\n",
       "    <tr>\n",
       "      <th>2</th>\n",
       "      <td>bambous virieux</td>\n",
       "      <td>1106677</td>\n",
       "      <td>MU</td>\n",
       "      <td>-20.342779</td>\n",
       "      <td>57.757500</td>\n",
       "      <td>1607817600</td>\n",
       "      <td>55</td>\n",
       "      <td>78</td>\n",
       "      <td>75.38</td>\n",
       "      <td>16.62</td>\n",
       "    </tr>\n",
       "    <tr>\n",
       "      <th>3</th>\n",
       "      <td>lompoc</td>\n",
       "      <td>5367788</td>\n",
       "      <td>US</td>\n",
       "      <td>34.639149</td>\n",
       "      <td>-120.457939</td>\n",
       "      <td>1607817600</td>\n",
       "      <td>75</td>\n",
       "      <td>89</td>\n",
       "      <td>58.69</td>\n",
       "      <td>16.51</td>\n",
       "    </tr>\n",
       "    <tr>\n",
       "      <th>4</th>\n",
       "      <td>punta arenas</td>\n",
       "      <td>3874787</td>\n",
       "      <td>CL</td>\n",
       "      <td>-53.150002</td>\n",
       "      <td>-70.916672</td>\n",
       "      <td>1607817600</td>\n",
       "      <td>65</td>\n",
       "      <td>63</td>\n",
       "      <td>48.74</td>\n",
       "      <td>15.57</td>\n",
       "    </tr>\n",
       "  </tbody>\n",
       "</table>\n",
       "</div>"
      ],
      "text/plain": [
       "              City       id Country        Lat         Lng        Date  \\\n",
       "0          rikitea  4030556      PF -23.120279 -134.969177  1607817600   \n",
       "1        hithadhoo  1282256      MV  -0.600000   73.083328  1607817600   \n",
       "2  bambous virieux  1106677      MU -20.342779   57.757500  1607817600   \n",
       "3           lompoc  5367788      US  34.639149 -120.457939  1607817600   \n",
       "4     punta arenas  3874787      CL -53.150002  -70.916672  1607817600   \n",
       "\n",
       "   Cloudiness  Humidity  Max Temp  Wind Speed  \n",
       "0         100        80     75.54       12.44  \n",
       "1          41        77     82.22       17.11  \n",
       "2          55        78     75.38       16.62  \n",
       "3          75        89     58.69       16.51  \n",
       "4          65        63     48.74       15.57  "
      ]
     },
     "execution_count": 3,
     "metadata": {},
     "output_type": "execute_result"
    }
   ],
   "source": [
    "# read the csv file in with pandas\n",
    "cities = pd.read_csv(\"resources/cities.csv\")\n",
    "cities.head()"
   ]
  },
  {
   "cell_type": "code",
   "execution_count": 4,
   "metadata": {},
   "outputs": [],
   "source": [
    "# convert cities to an html file\n",
    "cities.to_html(\"cities.html\")"
   ]
  },
  {
   "cell_type": "code",
   "execution_count": null,
   "metadata": {},
   "outputs": [],
   "source": []
  }
 ],
 "metadata": {
  "anaconda-cloud": {},
  "kernelspec": {
   "display_name": "Python 3",
   "language": "python",
   "name": "python3"
  },
  "language_info": {
   "codemirror_mode": {
    "name": "ipython",
    "version": 3
   },
   "file_extension": ".py",
   "mimetype": "text/x-python",
   "name": "python",
   "nbconvert_exporter": "python",
   "pygments_lexer": "ipython3",
   "version": "3.7.9"
  }
 },
 "nbformat": 4,
 "nbformat_minor": 4
}
